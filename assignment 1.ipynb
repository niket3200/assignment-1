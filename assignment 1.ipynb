{
 "cells": [
  {
   "cell_type": "code",
   "execution_count": 9,
   "metadata": {},
   "outputs": [
    {
     "name": "stdout",
     "output_type": "stream",
     "text": [
      "value of x 5\n",
      "value of y 7\n",
      " new value of x  7\n",
      " new value of y 5\n"
     ]
    }
   ],
   "source": [
    "#swap two numbers\n",
    "x=int(input(\"value of x \"))\n",
    "y=int(input(\"value of y \"))\n",
    "x,y=y,x\n",
    "print(\" new value of x \",x)\n",
    "print(\" new value of y\",y) "
   ]
  },
  {
   "cell_type": "code",
   "execution_count": 10,
   "metadata": {},
   "outputs": [
    {
     "name": "stdout",
     "output_type": "stream",
     "text": [
      "Enter A number5\n",
      "Number is odd\n"
     ]
    }
   ],
   "source": [
    "#check if the no is odd or even\n",
    "num=int(input('Enter A number'))\n",
    "if num%2==0:                             #an even number when divided by 2 gives 0 remainder\n",
    "    print(\"Number is  Even\")\n",
    "else:\n",
    "    print(\"Number is odd\")"
   ]
  },
  {
   "cell_type": "code",
   "execution_count": 11,
   "metadata": {},
   "outputs": [
    {
     "name": "stdout",
     "output_type": "stream",
     "text": [
      "enter the number 45\n",
      "6.708203932499369\n"
     ]
    }
   ],
   "source": [
    "#Write a program to find the square root of a number.\n",
    "num=float(input(\"enter the number \"))\n",
    "print(float(num**0.5))"
   ]
  },
  {
   "cell_type": "code",
   "execution_count": 14,
   "metadata": {},
   "outputs": [
    {
     "name": "stdout",
     "output_type": "stream",
     "text": [
      "enter the number 3\n",
      "1\n",
      "2\n",
      "3\n",
      "3\n",
      "2\n",
      "1\n"
     ]
    }
   ],
   "source": [
    "#Write a program to print all the natural numbers from 1 to n (user input). Then print the same in reverse order.\n",
    "n=int(input(\"enter the number \"))\n",
    "for i in range(n):\n",
    "    print(i+1)\n",
    "for i in range(n):\n",
    "    print(n-i)\n"
   ]
  },
  {
   "cell_type": "code",
   "execution_count": 15,
   "metadata": {},
   "outputs": [
    {
     "name": "stdout",
     "output_type": "stream",
     "text": [
      "Enter Radius of sphere3\n",
      "113.03999999999999\n"
     ]
    }
   ],
   "source": [
    "#Write a program which prints volume of a sphere, given the radius. (use pi = 3.14).\n",
    "r=float(input('Enter Radius of sphere'))\n",
    "volume=(4/3)*3.14*(r**3)                \n",
    "print(volume)"
   ]
  },
  {
   "cell_type": "code",
   "execution_count": 16,
   "metadata": {},
   "outputs": [
    {
     "name": "stdout",
     "output_type": "stream",
     "text": [
      "even numbers  [2, 4, 6, 8, 10, 12, 14, 16, 18, 20, 22, 24, 26, 28, 30, 32, 34, 36, 38, 40, 42, 44, 46, 48, 50, 52, 54, 56, 58, 60, 62, 64, 66, 68, 70, 72, 74, 76, 78, 80, 82, 84, 86, 88, 90, 92, 94, 96, 98, 100]\n",
      "odd numbers  [1, 3, 5, 7, 9, 11, 13, 15, 17, 19, 21, 23, 25, 27, 29, 31, 33, 35, 37, 39, 41, 43, 45, 47, 49, 51, 53, 55, 57, 59, 61, 63, 65, 67, 69, 71, 73, 75, 77, 79, 81, 83, 85, 87, 89, 91, 93, 95, 97, 99]\n"
     ]
    }
   ],
   "source": [
    "#Print all odd numbers and even numbers between 1 to 100.  \n",
    "i=1\n",
    "a=[]\n",
    "b=[]\n",
    "while (i<=100):\n",
    "    if i%2==0:\n",
    "        a.append(i)\n",
    "    else:\n",
    "        b.append(i)\n",
    "    i+=1\n",
    "print(\"even numbers \",a)\n",
    "print(\"odd numbers \",b)"
   ]
  },
  {
   "cell_type": "code",
   "execution_count": 17,
   "metadata": {},
   "outputs": [
    {
     "name": "stdout",
     "output_type": "stream",
     "text": [
      "enter the value of a: 1\n",
      "enter the value of b: -4\n",
      "enter the value of c: 4\n",
      "Roots of equations are  : 2.0 2.0\n"
     ]
    }
   ],
   "source": [
    "# Write a program to compute roots of a quadratic equation when coefficients a, b and c are known (entered by the user).\n",
    "a=float(input(\"enter the value of a: \"))\n",
    "b=float(input(\"enter the value of b: \"))\n",
    "c=float(input(\"enter the value of c: \"))\n",
    "d=b**2-4*a*c\n",
    "if d>=0:                        #for real roots\n",
    "    r1=((-b+d**0.5)/2*a)\n",
    "    r2=((-b-d**0.5)/2*a)\n",
    "else:                           #for imaginary roots\n",
    "    r1=((-b+(d**0.5)*i)/2*a)\n",
    "    r2=((-b-(d**0.5)*i)/2*a)\n",
    "print(\"Roots of equations are  :\",r1,r2)"
   ]
  },
  {
   "cell_type": "code",
   "execution_count": 18,
   "metadata": {},
   "outputs": [
    {
     "name": "stdout",
     "output_type": "stream",
     "text": [
      "enter the number 56\n",
      "no of digits :  2\n"
     ]
    }
   ],
   "source": [
    "#Count the number of digits in a number.\n",
    "x=int(input(\"enter the number \"))\n",
    "count=0\n",
    "while (x>0):\n",
    "    count+=1\n",
    "    x=x // 10\n",
    "print(\"no of digits : \",count)"
   ]
  },
  {
   "cell_type": "code",
   "execution_count": 19,
   "metadata": {},
   "outputs": [
    {
     "name": "stdout",
     "output_type": "stream",
     "text": [
      "enter the number: 8\n",
      "no is  not prime \n"
     ]
    }
   ],
   "source": [
    "#Write a program to check if a number is prime or not. Example: 7 ==> True, 6 ==> False\n",
    "def check_prime(n,i=2):\n",
    "    if n<=2:\n",
    "        if n==2:\n",
    "            return True\n",
    "        else:\n",
    "            return False\n",
    "    if n%i==0:\n",
    "        return False\n",
    "    if i*i>n:\n",
    "        return True\n",
    "    return check_prime(n,i+1)\n",
    "n=int(input(\"enter the number: \"))\n",
    "if(check_prime(n)):\n",
    "    print(\"no is prime \")\n",
    "else:\n",
    "    print(\"no is  not prime \")\n",
    "        \n",
    "            "
   ]
  },
  {
   "cell_type": "code",
   "execution_count": 20,
   "metadata": {},
   "outputs": [],
   "source": [
    "#Write a program that asks the user for a number n and prints the sum of the numbers 1 to n such that only multiples of \n",
    "#three or five are considered in the sum, e.g. 3, 5, 6, 9, 10, 12, 15 for n=17\n",
    "def Sum(n):\n",
    "    j=0\n",
    "    for i in range(1,n):\n",
    "        if i%3==0 or i%5==0:\n",
    "            print(i,end= \" + \")\n",
    "            j+=i\n",
    "    print(\"=\",j)\n",
    "    \n",
    "        \n"
   ]
  },
  {
   "cell_type": "code",
   "execution_count": 23,
   "metadata": {},
   "outputs": [
    {
     "name": "stdout",
     "output_type": "stream",
     "text": [
      "3 + 5 + 6 + 9 + 10 + 12 + 15 + = 60\n"
     ]
    }
   ],
   "source": [
    "Sum(17)"
   ]
  },
  {
   "cell_type": "code",
   "execution_count": 28,
   "metadata": {},
   "outputs": [
    {
     "name": "stdout",
     "output_type": "stream",
     "text": [
      "enter the number n 20\n",
      "choose 1 for sum and 2 for product 2\n",
      "product from 1 to n: 2432902008176640000\n"
     ]
    }
   ],
   "source": [
    "# Write a program that asks the user for a number n and gives them the possibility to choose between computing\n",
    "#the sum and computing the product of 1,…,n\n",
    "sum=0\n",
    "product=1\n",
    "n=int(input(\"enter the number n \"))\n",
    "choice=int(input(\"choose 1 for sum and 2 for product \"))\n",
    "if choice==1:\n",
    "    for i in range(1,n+1):\n",
    "        sum+=i\n",
    "    print(\"sum from 1 to n:\",sum)\n",
    "if choice==2:\n",
    "    for i in range(1,n+1):\n",
    "        product*=i\n",
    "    print(\"product from 1 to n:\",product)\n",
    "    \n",
    "    "
   ]
  },
  {
   "cell_type": "code",
   "execution_count": 1,
   "metadata": {},
   "outputs": [
    {
     "name": "stdout",
     "output_type": "stream",
     "text": [
      "sum =  233168\n"
     ]
    }
   ],
   "source": [
    "#Find the sum of all the multiples of 3 or 5 below 1000. \n",
    "n=1000\n",
    "sum=0\n",
    "for i in range(n):\n",
    "    if i%3==0 or i%5==0:\n",
    "        sum+=i\n",
    "print(\"sum = \",sum)\n",
    "        \n",
    " "
   ]
  },
  {
   "cell_type": "code",
   "execution_count": 3,
   "metadata": {},
   "outputs": [
    {
     "name": "stdout",
     "output_type": "stream",
     "text": [
      "difference is: 25164150\n"
     ]
    }
   ],
   "source": [
    "# Find the difference between the sum of the squares of the first one hundred natural numbers and the square of the sum.\n",
    "sum1=0\n",
    "sum2=0\n",
    "for i in range(1,101):\n",
    "    sum1+=i**2\n",
    "    sum2+=i\n",
    "print(\"difference is:\",sum2**2-sum1)"
   ]
  },
  {
   "cell_type": "code",
   "execution_count": 2,
   "metadata": {},
   "outputs": [
    {
     "name": "stdout",
     "output_type": "stream",
     "text": [
      "enter the number 25\n",
      "enter the number 12\n",
      "enter the number 45\n",
      "enter the number i\n",
      "total : 82\n",
      "count : 3\n",
      "average : 27\n"
     ]
    }
   ],
   "source": [
    "#Write a program which repeatedly reads numbers until the user enters \"stop\". Once \"stop\" is entered, print out the total, count, and average of the numbers. If the user enters anything other than a \n",
    "#number then also stop.\n",
    "count=0\n",
    "Sum=0\n",
    "i=0\n",
    "while i!='stop':\n",
    "    try:\n",
    "        i=int(input(\"enter the number \"))\n",
    "        Sum+=i\n",
    "        count+=1\n",
    "    except:\n",
    "\n",
    "            print(\"total :\",Sum)\n",
    "            print(\"count :\",count)\n",
    "            print(\"average :\",Sum//count)\n",
    "            break\n",
    "            \n",
    "\n"
   ]
  },
  {
   "cell_type": "code",
   "execution_count": 2,
   "metadata": {},
   "outputs": [
    {
     "name": "stdout",
     "output_type": "stream",
     "text": [
      "2002 2009 2016 2023 2037 2044 2051 2058 2072 2079 2086 2093 2107 2114 2121 2128 2142 2149 2156 2163 2177 2184 2191 2198 2212 2219 2226 2233 2247 2254 2261 2268 2282 2289 2296 2303 2317 2324 2331 2338 2352 2359 2366 2373 2387 2394 2401 2408 2422 2429 2436 2443 2457 2464 2471 2478 2492 2499 2506 2513 2527 2534 2541 2548 2562 2569 2576 2583 2597 2604 2611 2618 2632 2639 2646 2653 2667 2674 2681 2688 2702 2709 2716 2723 2737 2744 2751 2758 2772 2779 2786 2793 2807 2814 2821 2828 2842 2849 2856 2863 2877 2884 2891 2898 2912 2919 2926 2933 2947 2954 2961 2968 2982 2989 2996 3003 3017 3024 3031 3038 3052 3059 3066 3073 3087 3094 3101 3108 3122 3129 3136 3143 3157 3164 3171 3178 3192 3199 "
     ]
    }
   ],
   "source": [
    "#Write a program which will find all such numbers which are divisible by 7 but are not a multiple of 5, between \n",
    "#2000 and 3200 (both included).\n",
    "for i in range(2000,3201):\n",
    "    if i%7==0 and i%5!=0:\n",
    "        print(i,end=\" \")\n",
    "        "
   ]
  },
  {
   "cell_type": "code",
   "execution_count": 7,
   "metadata": {},
   "outputs": [
    {
     "name": "stdout",
     "output_type": "stream",
     "text": [
      "2 3 5 7 11 13 17 19 23 29 31 37 41 43 47 "
     ]
    }
   ],
   "source": [
    "#Write a program that prints all prime numbers till n. (n is the user input)\n",
    "def check_prime(n,i=2):\n",
    "    if n<=2:\n",
    "        if n==2 or n==3:\n",
    "            return True\n",
    "        else:\n",
    "            return False\n",
    "    if n%i==0:\n",
    "        return False\n",
    "    if i*i>n:\n",
    "        return True\n",
    "    return check_prime(n,i+1)\n",
    "def printPrime(n):\n",
    "    for i in range(2,n+1):\n",
    "            if check_prime(i):\n",
    "                 print(i,end=\" \")\n",
    "printPrime(50)"
   ]
  },
  {
   "cell_type": "code",
   "execution_count": 4,
   "metadata": {},
   "outputs": [],
   "source": [
    "# Write a program which can compute the factorial of a given number.\n",
    "def fact(n):\n",
    "    if n==0 or n==1:\n",
    "        return 1\n",
    "    else:\n",
    "        return n*fact(n-1)\n",
    "    "
   ]
  },
  {
   "cell_type": "code",
   "execution_count": 6,
   "metadata": {},
   "outputs": [
    {
     "data": {
      "text/plain": [
       "120"
      ]
     },
     "execution_count": 6,
     "metadata": {},
     "output_type": "execute_result"
    }
   ],
   "source": [
    "fact(5)"
   ]
  },
  {
   "cell_type": "code",
   "execution_count": 12,
   "metadata": {},
   "outputs": [
    {
     "name": "stdout",
     "output_type": "stream",
     "text": [
      "1 1 2 3 5 8 13 21 34 55 89 144 233 377 610 987 1597 2584 4181 6765 "
     ]
    }
   ],
   "source": [
    "# Write a program for printing fibonacci series till n.\n",
    "def fibo(n):\n",
    "    if n==0 or n==1:\n",
    "        return 1\n",
    "    else:\n",
    "        return fibo(n-1)+fibo(n-2)\n",
    "for i in range(20):\n",
    "    print(fibo(i),end=\" \")\n"
   ]
  },
  {
   "cell_type": "code",
   "execution_count": 1,
   "metadata": {},
   "outputs": [
    {
     "name": "stdout",
     "output_type": "stream",
     "text": [
      "enter the first number: 5\n",
      "enter the second number: 10\n",
      "lcm of two numbers:  10\n"
     ]
    }
   ],
   "source": [
    "#Write a program to find the LCM of two numbers.\n",
    "a=int(input(\"enter the first number: \"))\n",
    "b=int(input(\"enter the second number: \"))\n",
    "leastmul=max(a,b)\n",
    "while 1:\n",
    "    if leastmul%a==0 and leastmul%b==0:\n",
    "        print(\"lcm of two numbers: \",leastmul)\n",
    "        break\n",
    "    leastmul+=1"
   ]
  },
  {
   "cell_type": "code",
   "execution_count": 7,
   "metadata": {},
   "outputs": [],
   "source": [
    "#Write a program to find factors of a number.\n",
    "def factors(n):\n",
    "    print(\"the factors are: \")\n",
    "    for i in range(1,n+1):\n",
    "        if n%i==0:\n",
    "            print(i,end=\" \")\n",
    "            \n",
    "            \n",
    " "
   ]
  },
  {
   "cell_type": "code",
   "execution_count": 10,
   "metadata": {},
   "outputs": [
    {
     "name": "stdout",
     "output_type": "stream",
     "text": [
      "the factors are: \n",
      "1 2 4 5 10 20 25 50 100 "
     ]
    }
   ],
   "source": [
    "factors(100)"
   ]
  },
  {
   "cell_type": "code",
   "execution_count": 19,
   "metadata": {},
   "outputs": [
    {
     "name": "stdout",
     "output_type": "stream",
     "text": [
      "* \n",
      "* * \n",
      "* * * \n",
      "* * * * \n",
      "* * * * * \n"
     ]
    }
   ],
   "source": [
    "#Write a program to print the following pattern.\n",
    "for i in range(5):\n",
    "    for j in range(0,i+1):\n",
    "        print(\"*\",end=\" \")\n",
    "    print()"
   ]
  },
  {
   "cell_type": "code",
   "execution_count": 21,
   "metadata": {},
   "outputs": [
    {
     "name": "stdout",
     "output_type": "stream",
     "text": [
      "* * * * * * * \n",
      "* * * * * * \n",
      "* * * * * \n",
      "* * * * \n",
      "* * * \n",
      "* * \n",
      "* \n"
     ]
    }
   ],
   "source": [
    "for i in range(7):\n",
    "    for j in range(0,7-i):\n",
    "        print(\"*\",end=\" \")\n",
    "    print()"
   ]
  },
  {
   "cell_type": "code",
   "execution_count": 23,
   "metadata": {},
   "outputs": [
    {
     "name": "stdout",
     "output_type": "stream",
     "text": [
      "1 \n",
      "2 2 \n",
      "3 3 3 \n",
      "4 4 4 4 \n",
      "5 5 5 5 5 \n"
     ]
    }
   ],
   "source": [
    "for i in range(5):\n",
    "    for j in range(0,i+1):\n",
    "        print(i+1,end=\" \")\n",
    "    print()"
   ]
  },
  {
   "cell_type": "code",
   "execution_count": 28,
   "metadata": {},
   "outputs": [
    {
     "name": "stdout",
     "output_type": "stream",
     "text": [
      "       *  \n",
      "     *   *  \n",
      "   *   *   *  \n",
      " *   *   *   *  \n"
     ]
    }
   ],
   "source": [
    "n=4\n",
    "for i in range(n):\n",
    "    print(\"  \"*(n-i-1) +\" *  \"*(i+1))"
   ]
  },
  {
   "cell_type": "code",
   "execution_count": 56,
   "metadata": {},
   "outputs": [
    {
     "name": "stdout",
     "output_type": "stream",
     "text": [
      "1 \n",
      "2 3 \n",
      "4 5 6 \n",
      "7 8 9 10 \n"
     ]
    }
   ],
   "source": [
    "a=1\n",
    "for i in range(4):\n",
    "    for j in range(0,i+1):\n",
    "        print(a,end=\" \")\n",
    "        a+=1\n",
    "    print()"
   ]
  },
  {
   "cell_type": "code",
   "execution_count": 63,
   "metadata": {},
   "outputs": [
    {
     "name": "stdout",
     "output_type": "stream",
     "text": [
      "A \n",
      "B C \n",
      "D E F \n",
      "G H I J \n"
     ]
    }
   ],
   "source": [
    "a=1\n",
    "for i in range(4):\n",
    "    for j in range(0,i+1):\n",
    "        print(chr(64+a),end=\" \")\n",
    "        a+=1\n",
    "    print()"
   ]
  },
  {
   "cell_type": "code",
   "execution_count": 5,
   "metadata": {},
   "outputs": [
    {
     "name": "stdout",
     "output_type": "stream",
     "text": [
      "enter the value of a: 9\n",
      "a + aa + aaa + aaaa + = 11106\n"
     ]
    }
   ],
   "source": [
    "# Write a program that computes the value of a+aa+aaa+aaaa with a given digit as the value of a. \n",
    "#Suppose the following input is supplied to the program: 9, Then, the output should be: 9 + 99 + 999 + 9999 =  11106\n",
    "a=int(input(\"enter the value of a: \"))\n",
    "for i in range(4):\n",
    "    print(\"a\"*(i+1),end=\" + \")\n",
    "a=(1*a)+(10*a+1*a)+(100*a+10*a+1*a)+(1000*a+100*a+10*a+1*a)\n",
    "print(\"=\",a)\n",
    "\n"
   ]
  },
  {
   "cell_type": "code",
   "execution_count": null,
   "metadata": {},
   "outputs": [],
   "source": []
  }
 ],
 "metadata": {
  "kernelspec": {
   "display_name": "Python 3",
   "language": "python",
   "name": "python3"
  },
  "language_info": {
   "codemirror_mode": {
    "name": "ipython",
    "version": 3
   },
   "file_extension": ".py",
   "mimetype": "text/x-python",
   "name": "python",
   "nbconvert_exporter": "python",
   "pygments_lexer": "ipython3",
   "version": "3.7.3"
  }
 },
 "nbformat": 4,
 "nbformat_minor": 2
}
